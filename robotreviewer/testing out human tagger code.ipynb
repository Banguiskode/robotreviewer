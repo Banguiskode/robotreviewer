{
 "cells": [
  {
   "cell_type": "code",
   "execution_count": 7,
   "metadata": {},
   "outputs": [],
   "source": [
    "import robotreviewer\n",
    "import os\n",
    "import pickle\n",
    "import tqdm\n",
    "import numpy as np\n",
    "\n",
    "# with open(os.path.join(robotreviewer.DATA_ROOT, \"human/human_models.pck\"), \"rb\") as f:\n",
    "#     human_models = pickle.load(f)\n",
    "\n",
    "\n"
   ]
  },
  {
   "cell_type": "code",
   "execution_count": 8,
   "metadata": {},
   "outputs": [],
   "source": [
    "examples = [\n",
    "    {\"ti\":\"\"\"Comparison of the effectiveness and outcome of microendoscopic and open discectomy in patients suffering from lumbar disc herniation.\n",
    "\"\"\",\n",
    "     \"ab\": \"\"\"\n",
    "     BACKGROUND:\n",
    "The purpose of our study is to compare the outcomes and effectiveness of MED vs OLD for lumbar disc herniation.\n",
    "\n",
    "OBJECTIVES:\n",
    "To identify the functional outcomes in terms of ODI score, VAS score complications in terms of intraoperative blood loss, use of general anesthesia, and morbidity in terms of total hospital stay between MED and OLD.\n",
    "\n",
    "METHODS:\n",
    "In our randomized prospective study we analyzed 60 patients with clinical signs and symptoms with 2 weeks of failed conservative treatment plus MRI or CT scan findings of lumbar disc herniation who underwent MED and OLD. The study was undertaken from November 2017 to January 2019 at Guangzhou Medical University of Second Affiliated Hospital, department of orthopedic surgery in spinal Unit, Guangzhou, China. Patients were divided into 2 groups i.e. who underwent MED group and the OLD group then we compared the preoperative and postoperative ODI and VAS score, duration of total hospital stay, intraoperative blood loss, and operation time.\n",
    "\n",
    "RESULTS:\n",
    "We evaluated 60 patients. Among them, 30 underwent MED (15 female and 15 male) and 30 underwent OLD 14 male 16 female. Surgical and anesthesia time was significantly shorter, blood loss and hospital stay were significantly reduced in patients having MED than OLD (<0.005). The improvement in the ODI in both groups was clinically significant and statistically (P < .005) at postoperative 1st day (with greater improvement in the MED group), at 6 weeks (P > .005), month 6 (>0.005) statistically no significant. The clinical improvement was similar in both groups. VAS and ODI scores improved significantly postoperatively in both groups. However, the MED group was superior to the OLD group with less time in bed, shorter operation time, less blood loss which is clinically and statistically significant (P < .05).\n",
    "\n",
    "CONCLUSIONS:\n",
    "The standard surgical treatment of lumbar disc herniation has been open discectomy but there has been a trend towards minimally invasive procedures. MED for lumbar spine disc herniation is a well-known but developing field, which is increasingly spreading in the last few years. The success rate of MED is about approximately 90%. Both methods are equally effective in relieving radicular pain. MED was superior in terms of total hospital stay, morbidity, and earlier return to work and anesthetic exposure, blood loss, intra-op time comparing to OLD. MED is a safe and effective alternative to conventional OLD for patients with lumbar disc herniation.\"\"\"\n",
    "    },\n",
    "    {\"ti\": \"\"\"Increased Cadmium Excretion Due to Oral Administration of Lactobacillus plantarum Strains by Regulating Enterohepatic Circulation in Mice.\"\"\",\n",
    "    \"ab\": \"\"\"The heavy metal cadmium (Cd) is a contaminant widely distributed in the food chain. In the present study, 8-week oral administration of a probiotic strain, Lactobacillus plantarum CCFM8610, markedly decreased blood Cd levels in volunteers. Further animal study showed that three L. plantarum strains administered orally exhibited significantly different effects on the regulation of bile acid (BA) metabolism and Cd excretion in mice. Among the strains, L. plantarum CCFM8610 showed the most significant effects on enhancing hepatic BA synthesis, biliary glutathione output, and fecal BA excretion. Biliary Cd output and fecal Cd excretion were markedly increased after L. plantarum CCFM8610 administration, resulting in a marked reduction in tissue Cd levels. The regulation of BA homeostasis and Cd excretion was due to the suppression of the enterohepatic farnesoid X receptor-fibroblast growth factor 15 (FXR-FGF15) axis by L. plantarum CCFM8610 and could be abolished by treatment with the FXR agonist GW4064. The regulatory effects were also related to the gut microbiota, as antibiotic pretreatment reversed L. plantarum CCFM8610-induced effects in BA and Cd metabolism.\"\"\"}\n",
    "]"
   ]
  },
  {
   "cell_type": "code",
   "execution_count": 30,
   "metadata": {},
   "outputs": [
    {
     "name": "stderr",
     "output_type": "stream",
     "text": [
      "100%|██████████| 2/2 [00:00<00:00, 1605.78it/s]\n"
     ]
    }
   ],
   "source": [
    "fields = [\"ti\", \"ab\"]\n",
    "human_preds = []\n",
    "for field in tqdm.tqdm(fields):\n",
    "    X = human_models[\"vecs\"][field].transform((r[field] for r in examples))\n",
    "    human_preds.append(human_models[\"clfs\"][field].predict(X))\n",
    "\n",
    "human_preds = np.array(human_preds).T\n",
    "human_ens_preds = list(map(lambda x: {\"is_human\": x}, human_models[\"ensembler\"].predict(human_preds)))\n"
   ]
  },
  {
   "cell_type": "code",
   "execution_count": 31,
   "metadata": {},
   "outputs": [
    {
     "data": {
      "text/plain": [
       "[{'is_human': True}, {'is_human': False}]"
      ]
     },
     "execution_count": 31,
     "metadata": {},
     "output_type": "execute_result"
    }
   ],
   "source": [
    "human_ens_preds"
   ]
  },
  {
   "cell_type": "code",
   "execution_count": 1,
   "metadata": {},
   "outputs": [],
   "source": [
    "from robotreviewer.robots import human_robot"
   ]
  },
  {
   "cell_type": "code",
   "execution_count": 2,
   "metadata": {},
   "outputs": [
    {
     "name": "stderr",
     "output_type": "stream",
     "text": [
      "/home/iain/anaconda3/envs/robotreviewer/lib/python3.6/site-packages/sklearn/base.py:306: UserWarning: Trying to unpickle estimator LogisticRegression from version 0.21.2 when using version 0.21.3. This might lead to breaking code or invalid results. Use at your own risk.\n",
      "  UserWarning)\n",
      "/home/iain/anaconda3/envs/robotreviewer/lib/python3.6/site-packages/sklearn/base.py:306: UserWarning: Trying to unpickle estimator CountVectorizer from version 0.21.2 when using version 0.21.3. This might lead to breaking code or invalid results. Use at your own risk.\n",
      "  UserWarning)\n"
     ]
    }
   ],
   "source": [
    "b = human_robot.HumanRobot()"
   ]
  },
  {
   "cell_type": "code",
   "execution_count": 6,
   "metadata": {},
   "outputs": [
    {
     "data": {
      "text/plain": [
       "[{'model': 'svm_cnn',\n",
       "  'score': 3.1851380179069744,\n",
       "  'threshold_type': 'balanced',\n",
       "  'threshold_value': 1.6498606653424648,\n",
       "  'is_rct': True,\n",
       "  'is_rct_precise': True,\n",
       "  'is_rct_balanced': True,\n",
       "  'is_rct_sensitive': True,\n",
       "  'ptyp_rct': -1},\n",
       " {'model': 'svm_cnn',\n",
       "  'score': -0.4086334185806076,\n",
       "  'threshold_type': 'balanced',\n",
       "  'threshold_value': 1.6498606653424648,\n",
       "  'is_rct': False,\n",
       "  'is_rct_precise': False,\n",
       "  'is_rct_balanced': False,\n",
       "  'is_rct_sensitive': False,\n",
       "  'ptyp_rct': -1}]"
      ]
     },
     "execution_count": 6,
     "metadata": {},
     "output_type": "execute_result"
    }
   ],
   "source": [
    "b.api_annotate(examples)"
   ]
  },
  {
   "cell_type": "code",
   "execution_count": 9,
   "metadata": {},
   "outputs": [],
   "source": [
    "from robotreviewer.robots import human_robot"
   ]
  },
  {
   "cell_type": "code",
   "execution_count": 15,
   "metadata": {},
   "outputs": [
    {
     "name": "stderr",
     "output_type": "stream",
     "text": [
      "/home/iain/anaconda3/envs/robotreviewer/lib/python3.6/site-packages/keras/engine/topology.py:1271: UserWarning: The `Merge` layer is deprecated and will be removed after 08/2017. Use instead layers from `keras.layers.merge`, e.g. `add`, `concatenate`, etc.\n",
      "  return cls(**config)\n",
      "/home/iain/anaconda3/envs/robotreviewer/lib/python3.6/site-packages/keras/models.py:291: UserWarning: Error in loading the saved optimizer state. As a result, your model is starting with a freshly initialized optimizer.\n",
      "  warnings.warn('Error in loading the saved optimizer '\n",
      "/home/iain/anaconda3/envs/robotreviewer/lib/python3.6/site-packages/sklearn/base.py:306: UserWarning: Trying to unpickle estimator LogisticRegression from version 0.21.2 when using version 0.21.3. This might lead to breaking code or invalid results. Use at your own risk.\n",
      "  UserWarning)\n"
     ]
    }
   ],
   "source": [
    "b = rct_robot.RCTRobot()"
   ]
  },
  {
   "cell_type": "code",
   "execution_count": 10,
   "metadata": {},
   "outputs": [
    {
     "name": "stderr",
     "output_type": "stream",
     "text": [
      "/home/iain/anaconda3/envs/robotreviewer/lib/python3.6/site-packages/sklearn/base.py:306: UserWarning: Trying to unpickle estimator LogisticRegression from version 0.21.2 when using version 0.21.3. This might lead to breaking code or invalid results. Use at your own risk.\n",
      "  UserWarning)\n",
      "/home/iain/anaconda3/envs/robotreviewer/lib/python3.6/site-packages/sklearn/base.py:306: UserWarning: Trying to unpickle estimator CountVectorizer from version 0.21.2 when using version 0.21.3. This might lead to breaking code or invalid results. Use at your own risk.\n",
      "  UserWarning)\n"
     ]
    }
   ],
   "source": [
    "b = human_robot.HumanRobot()"
   ]
  },
  {
   "cell_type": "code",
   "execution_count": 21,
   "metadata": {},
   "outputs": [
    {
     "data": {
      "text/plain": [
       "[{'model': 'svm_cnn',\n",
       "  'score': 3.1851380179069744,\n",
       "  'threshold_type': 'balanced',\n",
       "  'threshold_value': 1.6498606653424648,\n",
       "  'is_rct': True,\n",
       "  'is_rct_precise': True,\n",
       "  'is_rct_balanced': True,\n",
       "  'is_rct_sensitive': True,\n",
       "  'ptyp_rct': -1},\n",
       " {'model': 'svm_cnn',\n",
       "  'score': -0.4086334185806076,\n",
       "  'threshold_type': 'balanced',\n",
       "  'threshold_value': 1.6498606653424648,\n",
       "  'is_rct': False,\n",
       "  'is_rct_precise': False,\n",
       "  'is_rct_balanced': False,\n",
       "  'is_rct_sensitive': False,\n",
       "  'ptyp_rct': -1}]"
      ]
     },
     "execution_count": 21,
     "metadata": {},
     "output_type": "execute_result"
    }
   ],
   "source": [
    "b.api_annotate(examples)"
   ]
  },
  {
   "cell_type": "code",
   "execution_count": 19,
   "metadata": {},
   "outputs": [
    {
     "ename": "AttributeError",
     "evalue": "'RCTRobot' object has no attribute 'summary'",
     "output_type": "error",
     "traceback": [
      "\u001b[0;31m---------------------------------------------------------------------------\u001b[0m",
      "\u001b[0;31mAttributeError\u001b[0m                            Traceback (most recent call last)",
      "\u001b[0;32m<ipython-input-19-7991dbf54cf7>\u001b[0m in \u001b[0;36m<module>\u001b[0;34m\u001b[0m\n\u001b[0;32m----> 1\u001b[0;31m \u001b[0mb\u001b[0m\u001b[0;34m.\u001b[0m\u001b[0msummary\u001b[0m\u001b[0;34m(\u001b[0m\u001b[0;34m)\u001b[0m\u001b[0;34m\u001b[0m\u001b[0m\n\u001b[0m",
      "\u001b[0;31mAttributeError\u001b[0m: 'RCTRobot' object has no attribute 'summary'"
     ]
    }
   ],
   "source": [
    "b.summary()"
   ]
  },
  {
   "cell_type": "code",
   "execution_count": null,
   "metadata": {},
   "outputs": [],
   "source": []
  }
 ],
 "metadata": {
  "kernelspec": {
   "display_name": "Python (robotreviewer)",
   "language": "python",
   "name": "robotreviewer"
  },
  "language_info": {
   "codemirror_mode": {
    "name": "ipython",
    "version": 3
   },
   "file_extension": ".py",
   "mimetype": "text/x-python",
   "name": "python",
   "nbconvert_exporter": "python",
   "pygments_lexer": "ipython3",
   "version": "3.6.6"
  }
 },
 "nbformat": 4,
 "nbformat_minor": 2
}
